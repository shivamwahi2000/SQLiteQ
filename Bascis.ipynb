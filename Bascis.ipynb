{
  "nbformat": 4,
  "nbformat_minor": 0,
  "metadata": {
    "colab": {
      "provenance": []
    },
    "kernelspec": {
      "name": "python3",
      "display_name": "Python 3"
    },
    "language_info": {
      "name": "python"
    }
  },
  "cells": [
    {
      "cell_type": "markdown",
      "source": [
        "\n",
        "# SQLite\n",
        "\n",
        "SQLite is a relational database management system (RDBMS) that is:\n",
        "\n",
        "*   **Serverless:** Unlike other database systems like MySQL or PostgreSQL, SQLite doesn't require a separate server process. It operates directly on a single file.\n",
        "*   **Self-contained:** The entire database is stored in a single file, making it easy to manage and transport.\n",
        "*   **Zero-configuration:**  You don't need to install or configure a database server. It's ready to use right away.\n",
        "*   **Embedded:** It's designed to be embedded within applications, making it a popular choice for mobile apps, desktop software, and web browsers.\n",
        "\n",
        "## Use Cases\n",
        "\n",
        "*   **Application Databases:** SQLite is often used as an application's database, especially for single-user applications, mobile apps, and embedded systems where a full-fledged database server is not needed.\n",
        "*   **Local Data Storage:** Applications can use SQLite to store data locally, such as user settings, application data, or cached information.\n",
        "*   **Testing and Development:** SQLite can be a convenient database for testing and development.\n",
        "*   **Data Analysis:** It is often used to analyze datasets, and can be easily integrated with Python and R.\n",
        "*   **Web Development:** SQLite can be used to prototype web applications and is also suitable for low-traffic websites.\n",
        "\n",
        "## Key Features\n",
        "*   **ACID properties:** SQLite databases are ACID-compliant (Atomicity, Consistency, Isolation, Durability).\n",
        "*   **SQL Support:** SQLite supports standard SQL syntax.\n",
        "*   **Python standard library:** It is included in the Python standard library, so you don't need to install anything to start using it in Python.\n",
        "\n",
        "## How to use in Google Colab\n",
        "\n",
        "To use SQLite in Google Colab, you can use the `sqlite3` library which is built into Python, or use the `ipython-sql` library to write SQL directly in cells.\n",
        "\n"
      ],
      "metadata": {
        "id": "4SRW42FenBkx"
      }
    },
    {
      "source": [
        "import sqlite3 as sql #to import SQLite3"
      ],
      "cell_type": "code",
      "metadata": {
        "id": "lN5Y-dTknNUo"
      },
      "execution_count": 1,
      "outputs": []
    },
    {
      "cell_type": "code",
      "execution_count": 2,
      "metadata": {
        "id": "lQrjtoKfm_GO"
      },
      "outputs": [],
      "source": [
        "conn =  sql.connect(\"customer.db\") #to create a database and connect to it"
      ]
    },
    {
      "cell_type": "code",
      "source": [
        "cur = conn.cursor() #to create a cursor and execute SQL queries"
      ],
      "metadata": {
        "id": "gYUNrRren7d_"
      },
      "execution_count": 3,
      "outputs": []
    },
    {
      "cell_type": "markdown",
      "source": [
        "**SQLite** has a dynamic type system, which means that the data type of a value is not determined by the column it's stored in. Here's a breakdown of the common data types:\n",
        "\n",
        "1. **INTEGER**: This is used to store whole numbers.\n",
        "2. **REAL**: This is used to store floating-point numbers.\n",
        "3. **TEXT**: This is used to store strings of characters.\n",
        "4. **BLOB**: This is used to store binary data.\n",
        "5. **NULL**\n",
        "\n",
        "Even though SQLite has only these five basic types, it can still store other types of data by converting them to one of these five."
      ],
      "metadata": {
        "id": "kEAz9bWlobTg"
      }
    },
    {
      "cell_type": "code",
      "source": [
        "#Create a table in customer.db\n",
        "cur.execute(\"\"\"CREATE TABLE Customers(\n",
        "  f_name text,\n",
        "  l_name text,\n",
        "  email text,\n",
        "  age integer,\n",
        "  city text,\n",
        "  state text,\n",
        "  zip integer,\n",
        "  phone integer\n",
        ")\n",
        "\"\"\")"
      ],
      "metadata": {
        "colab": {
          "base_uri": "https://localhost:8080/"
        },
        "id": "qS13HELEn_1H",
        "outputId": "5e527fa6-9eb8-44ed-ac5d-207f1e3eb600"
      },
      "execution_count": 4,
      "outputs": [
        {
          "output_type": "execute_result",
          "data": {
            "text/plain": [
              "<sqlite3.Cursor at 0x7b84c0c0c3c0>"
            ]
          },
          "metadata": {},
          "execution_count": 4
        }
      ]
    },
    {
      "cell_type": "code",
      "source": [
        "#Insert a Single Value\n",
        "cur.execute(\"INSERT INTO Customers VALUES ('Radha','Krishnan','rk123@gmail.com',24,'Delhi','Delhi',110032,7825649371)\")"
      ],
      "metadata": {
        "colab": {
          "base_uri": "https://localhost:8080/"
        },
        "id": "JE2fzFhZp_DY",
        "outputId": "674d3048-e2be-4c7e-9ca5-937a624182e0"
      },
      "execution_count": 5,
      "outputs": [
        {
          "output_type": "execute_result",
          "data": {
            "text/plain": [
              "<sqlite3.Cursor at 0x7b84c0c0c3c0>"
            ]
          },
          "metadata": {},
          "execution_count": 5
        }
      ]
    },
    {
      "cell_type": "code",
      "source": [
        "#Insert Multiple Values\n",
        "Customers =  [\n",
        "    ('Amit', 'Sharma', 'amit.sharma89@gmail.com', 30, 'Mumbai', 'Maharashtra', 400001, 9812345678),\n",
        "    ('Priya', 'Singh', 'priya.singh77@yahoo.com', 27, 'Bangalore', 'Karnataka', 560001, 9987654321),\n",
        "    ('Rahul', 'Verma', 'rahul.verma91@hotmail.com', 32, 'Chennai', 'Tamil Nadu', 600001, 8876543210),\n",
        "    ('Sneha', 'Patel', 'sneha.patel123@gmail.com', 25, 'Ahmedabad', 'Gujarat', 380001, 9876543212),\n",
        "    ('Karan', 'Malhotra', 'karan.malhotra@gmail.com', 28, 'Hyderabad', 'Telangana', 500001, 9654321789),\n",
        "    ('Neha', 'Gupta', 'neha.gupta87@gmail.com', 29, 'Kolkata', 'West Bengal', 700001, 9123456789),\n",
        "    ('Vikas', 'Yadav', 'vikas.yadav@gmail.com', 31, 'Pune', 'Maharashtra', 411001, 9345678901),\n",
        "    ('Anjali', 'Mehra', 'anjali.mehra@gmail.com', 26, 'Jaipur', 'Rajasthan', 302001, 9765432187),\n",
        "    ('Siddharth', 'Chopra', 'sid.chopra@gmail.com', 33, 'Lucknow', 'Uttar Pradesh', 226001, 9456783210),\n",
        "    ('Rohan', 'Kapoor', 'rohan.kapoor@gmail.com', 35, 'Chandigarh', 'Chandigarh', 160001, 9876549876)\n",
        "]\n",
        "\n",
        "cur.executemany(\"INSERT INTO Customers VALUES (?,?,?,?,?,?,?,?)\", Customers) #? is a placeholder -> for each row"
      ],
      "metadata": {
        "colab": {
          "base_uri": "https://localhost:8080/"
        },
        "id": "U2ko4xJHqfgY",
        "outputId": "cfe1a53c-91b8-4888-eb54-e040c15bf5ce"
      },
      "execution_count": 6,
      "outputs": [
        {
          "output_type": "execute_result",
          "data": {
            "text/plain": [
              "<sqlite3.Cursor at 0x7b84c0c0c3c0>"
            ]
          },
          "metadata": {},
          "execution_count": 6
        }
      ]
    },
    {
      "cell_type": "code",
      "source": [
        "cur.execute(\"select * from customers\")\n",
        "cur.fetchone() #fetch one row"
      ],
      "metadata": {
        "colab": {
          "base_uri": "https://localhost:8080/"
        },
        "id": "CSKftKbUxQmd",
        "outputId": "9c89f3e0-10bd-4d04-b953-bdbef7413266"
      },
      "execution_count": 11,
      "outputs": [
        {
          "output_type": "execute_result",
          "data": {
            "text/plain": [
              "('Radha',\n",
              " 'Krishnan',\n",
              " 'rk123@gmail.com',\n",
              " 24,\n",
              " 'Delhi',\n",
              " 'Delhi',\n",
              " 110032,\n",
              " 7825649371)"
            ]
          },
          "metadata": {},
          "execution_count": 11
        }
      ]
    },
    {
      "cell_type": "code",
      "source": [
        "cur.fetchmany(5) #fetch 5 rows"
      ],
      "metadata": {
        "colab": {
          "base_uri": "https://localhost:8080/"
        },
        "id": "RDbvsXwBxkZE",
        "outputId": "24135f50-5ead-4f5b-cfed-4b9f7dceb95a"
      },
      "execution_count": 12,
      "outputs": [
        {
          "output_type": "execute_result",
          "data": {
            "text/plain": [
              "[('Amit',\n",
              "  'Sharma',\n",
              "  'amit.sharma89@gmail.com',\n",
              "  30,\n",
              "  'Mumbai',\n",
              "  'Maharashtra',\n",
              "  400001,\n",
              "  9812345678),\n",
              " ('Priya',\n",
              "  'Singh',\n",
              "  'priya.singh77@yahoo.com',\n",
              "  27,\n",
              "  'Bangalore',\n",
              "  'Karnataka',\n",
              "  560001,\n",
              "  9987654321),\n",
              " ('Rahul',\n",
              "  'Verma',\n",
              "  'rahul.verma91@hotmail.com',\n",
              "  32,\n",
              "  'Chennai',\n",
              "  'Tamil Nadu',\n",
              "  600001,\n",
              "  8876543210),\n",
              " ('Sneha',\n",
              "  'Patel',\n",
              "  'sneha.patel123@gmail.com',\n",
              "  25,\n",
              "  'Ahmedabad',\n",
              "  'Gujarat',\n",
              "  380001,\n",
              "  9876543212),\n",
              " ('Karan',\n",
              "  'Malhotra',\n",
              "  'karan.malhotra@gmail.com',\n",
              "  28,\n",
              "  'Hyderabad',\n",
              "  'Telangana',\n",
              "  500001,\n",
              "  9654321789)]"
            ]
          },
          "metadata": {},
          "execution_count": 12
        }
      ]
    },
    {
      "cell_type": "code",
      "source": [
        "cur.fetchall() #fetch all rows"
      ],
      "metadata": {
        "colab": {
          "base_uri": "https://localhost:8080/"
        },
        "id": "OIa2seofxnUM",
        "outputId": "a90e1db6-dd37-4f3f-aa84-0cd78332e7a9"
      },
      "execution_count": 13,
      "outputs": [
        {
          "output_type": "execute_result",
          "data": {
            "text/plain": [
              "[('Neha',\n",
              "  'Gupta',\n",
              "  'neha.gupta87@gmail.com',\n",
              "  29,\n",
              "  'Kolkata',\n",
              "  'West Bengal',\n",
              "  700001,\n",
              "  9123456789),\n",
              " ('Vikas',\n",
              "  'Yadav',\n",
              "  'vikas.yadav@gmail.com',\n",
              "  31,\n",
              "  'Pune',\n",
              "  'Maharashtra',\n",
              "  411001,\n",
              "  9345678901),\n",
              " ('Anjali',\n",
              "  'Mehra',\n",
              "  'anjali.mehra@gmail.com',\n",
              "  26,\n",
              "  'Jaipur',\n",
              "  'Rajasthan',\n",
              "  302001,\n",
              "  9765432187),\n",
              " ('Siddharth',\n",
              "  'Chopra',\n",
              "  'sid.chopra@gmail.com',\n",
              "  33,\n",
              "  'Lucknow',\n",
              "  'Uttar Pradesh',\n",
              "  226001,\n",
              "  9456783210),\n",
              " ('Rohan',\n",
              "  'Kapoor',\n",
              "  'rohan.kapoor@gmail.com',\n",
              "  35,\n",
              "  'Chandigarh',\n",
              "  'Chandigarh',\n",
              "  160001,\n",
              "  9876549876)]"
            ]
          },
          "metadata": {},
          "execution_count": 13
        }
      ]
    },
    {
      "cell_type": "markdown",
      "source": [
        "##**Format your results**"
      ],
      "metadata": {
        "id": "UILH3qYLy8RP"
      }
    },
    {
      "cell_type": "code",
      "source": [
        "from tabulate import tabulate\n",
        "\n",
        "# Fetch all items from the database\n",
        "cur.execute(\"SELECT * FROM customers\")\n",
        "items = cur.fetchall()\n",
        "\n",
        "# Prepare data for the table\n",
        "headers = ['First Name', 'Last Name', 'Email', 'Age', 'City', 'State', 'Zip', 'Phone']\n",
        "formatted_items = [list(item) for item in items]\n",
        "\n",
        "# Print formatted table\n",
        "print(tabulate(formatted_items, headers=headers, tablefmt='grid'))"
      ],
      "metadata": {
        "colab": {
          "base_uri": "https://localhost:8080/"
        },
        "id": "UmuaRPMS1mR0",
        "outputId": "a6535696-5405-4c30-85ef-ba659ccbd2ac"
      },
      "execution_count": 19,
      "outputs": [
        {
          "output_type": "stream",
          "name": "stdout",
          "text": [
            "+--------------+-------------+---------------------------+-------+------------+---------------+--------+------------+\n",
            "| First Name   | Last Name   | Email                     |   Age | City       | State         |    Zip |      Phone |\n",
            "+==============+=============+===========================+=======+============+===============+========+============+\n",
            "| Radha        | Krishnan    | rk123@gmail.com           |    24 | Delhi      | Delhi         | 110032 | 7825649371 |\n",
            "+--------------+-------------+---------------------------+-------+------------+---------------+--------+------------+\n",
            "| Amit         | Sharma      | amit.sharma89@gmail.com   |    30 | Mumbai     | Maharashtra   | 400001 | 9812345678 |\n",
            "+--------------+-------------+---------------------------+-------+------------+---------------+--------+------------+\n",
            "| Priya        | Singh       | priya.singh77@yahoo.com   |    27 | Bangalore  | Karnataka     | 560001 | 9987654321 |\n",
            "+--------------+-------------+---------------------------+-------+------------+---------------+--------+------------+\n",
            "| Rahul        | Verma       | rahul.verma91@hotmail.com |    32 | Chennai    | Tamil Nadu    | 600001 | 8876543210 |\n",
            "+--------------+-------------+---------------------------+-------+------------+---------------+--------+------------+\n",
            "| Sneha        | Patel       | sneha.patel123@gmail.com  |    25 | Ahmedabad  | Gujarat       | 380001 | 9876543212 |\n",
            "+--------------+-------------+---------------------------+-------+------------+---------------+--------+------------+\n",
            "| Karan        | Malhotra    | karan.malhotra@gmail.com  |    28 | Hyderabad  | Telangana     | 500001 | 9654321789 |\n",
            "+--------------+-------------+---------------------------+-------+------------+---------------+--------+------------+\n",
            "| Neha         | Gupta       | neha.gupta87@gmail.com    |    29 | Kolkata    | West Bengal   | 700001 | 9123456789 |\n",
            "+--------------+-------------+---------------------------+-------+------------+---------------+--------+------------+\n",
            "| Vikas        | Yadav       | vikas.yadav@gmail.com     |    31 | Pune       | Maharashtra   | 411001 | 9345678901 |\n",
            "+--------------+-------------+---------------------------+-------+------------+---------------+--------+------------+\n",
            "| Anjali       | Mehra       | anjali.mehra@gmail.com    |    26 | Jaipur     | Rajasthan     | 302001 | 9765432187 |\n",
            "+--------------+-------------+---------------------------+-------+------------+---------------+--------+------------+\n",
            "| Siddharth    | Chopra      | sid.chopra@gmail.com      |    33 | Lucknow    | Uttar Pradesh | 226001 | 9456783210 |\n",
            "+--------------+-------------+---------------------------+-------+------------+---------------+--------+------------+\n",
            "| Rohan        | Kapoor      | rohan.kapoor@gmail.com    |    35 | Chandigarh | Chandigarh    | 160001 | 9876549876 |\n",
            "+--------------+-------------+---------------------------+-------+------------+---------------+--------+------------+\n"
          ]
        }
      ]
    },
    {
      "cell_type": "code",
      "source": [
        "# Fetch all items from the database\n",
        "cur.execute(\"SELECT * FROM customers\")\n",
        "items = cur.fetchall()\n",
        "\n",
        "# Define a header\n",
        "print(f\"{'First Name':<12}{'Last Name':<12}{'Email':<25}{'Age':<5}{'City':<15}{'State':<15}{'Zip':<10}{'Phone':<15}\")\n",
        "print(\"-\" * 115)\n",
        "\n",
        "# Iterate and print rows\n",
        "for item in items:\n",
        "    print(f\"{item[0]:<12}{item[1]:<12}{item[2]:<25}{item[3]:<5}{item[4]:<15}{item[5]:<15}{item[6]:<10}{item[7]:<15}\")"
      ],
      "metadata": {
        "colab": {
          "base_uri": "https://localhost:8080/"
        },
        "id": "0UtX0J2C2E8I",
        "outputId": "eda360bf-de59-4f9f-fe16-e4ce54a98fa5"
      },
      "execution_count": 20,
      "outputs": [
        {
          "output_type": "stream",
          "name": "stdout",
          "text": [
            "First Name  Last Name   Email                    Age  City           State          Zip       Phone          \n",
            "-------------------------------------------------------------------------------------------------------------------\n",
            "Radha       Krishnan    rk123@gmail.com          24   Delhi          Delhi          110032    7825649371     \n",
            "Amit        Sharma      amit.sharma89@gmail.com  30   Mumbai         Maharashtra    400001    9812345678     \n",
            "Priya       Singh       priya.singh77@yahoo.com  27   Bangalore      Karnataka      560001    9987654321     \n",
            "Rahul       Verma       rahul.verma91@hotmail.com32   Chennai        Tamil Nadu     600001    8876543210     \n",
            "Sneha       Patel       sneha.patel123@gmail.com 25   Ahmedabad      Gujarat        380001    9876543212     \n",
            "Karan       Malhotra    karan.malhotra@gmail.com 28   Hyderabad      Telangana      500001    9654321789     \n",
            "Neha        Gupta       neha.gupta87@gmail.com   29   Kolkata        West Bengal    700001    9123456789     \n",
            "Vikas       Yadav       vikas.yadav@gmail.com    31   Pune           Maharashtra    411001    9345678901     \n",
            "Anjali      Mehra       anjali.mehra@gmail.com   26   Jaipur         Rajasthan      302001    9765432187     \n",
            "Siddharth   Chopra      sid.chopra@gmail.com     33   Lucknow        Uttar Pradesh  226001    9456783210     \n",
            "Rohan       Kapoor      rohan.kapoor@gmail.com   35   Chandigarh     Chandigarh     160001    9876549876     \n"
          ]
        }
      ]
    },
    {
      "cell_type": "markdown",
      "source": [
        "# **RowId Concept in SQLite**\n",
        "\n",
        "## **Introduction**\n",
        "In SQLite, every row in a table has a unique identifier called the `RowId`. This `RowId` is a 64-bit signed integer that SQLite automatically assigns to each row in a table, unless the table is explicitly created with a `WITHOUT ROWID` clause or uses a column explicitly defined as `INTEGER PRIMARY KEY`.\n",
        "\n",
        "---\n",
        "\n",
        "## **Key Characteristics of RowId**\n",
        "1. **Uniqueness:**\n",
        "   - The `RowId` is guaranteed to be unique within a table.\n",
        "   \n",
        "2. **Default Behavior:**\n",
        "   - If no `INTEGER PRIMARY KEY` is defined in the table, SQLite automatically creates a `RowId` for each row.\n",
        "\n",
        "3. **Alias for `RowId`:**\n",
        "   - SQLite provides three aliases for the `RowId`:\n",
        "     - `rowid`\n",
        "     - `_rowid_`\n",
        "     - `oid`\n",
        "   - These can be used interchangeably in SQL queries.\n",
        "\n",
        "4. **Explicit Integer Primary Key:**\n",
        "   - If a table defines a column with `INTEGER PRIMARY KEY`, SQLite uses that column's value as the `RowId`.\n",
        "\n",
        "5. **Accessing the RowId:**\n",
        "   - You can retrieve the `RowId` explicitly even if it's not part of the table schema.\n",
        "\n",
        "---\n",
        "\n",
        "## **Benefits of Using RowId**\n",
        "- **Efficient Access:**\n",
        "  - Rows can be accessed more efficiently using the `RowId` as it serves as a built-in index.\n",
        "  \n",
        "- **Automatic Handling:**\n",
        "  - SQLite automatically manages `RowId` values for new rows.\n",
        "\n",
        "- **Flexibility:**\n",
        "  - The `RowId` provides a fallback mechanism for identifying rows in tables without primary keys.\n"
      ],
      "metadata": {
        "id": "SzlqeZBh3hop"
      }
    },
    {
      "cell_type": "code",
      "source": [
        "from tabulate import tabulate\n",
        "\n",
        "# Fetch all items from the database\n",
        "cur.execute(\"SELECT rowid, * FROM customers\")\n",
        "items = cur.fetchall()\n",
        "\n",
        "# Prepare data for the table\n",
        "headers = ['Row_id','First Name', 'Last Name', 'Email', 'Age', 'City', 'State', 'Zip', 'Phone']\n",
        "formatted_items = [list(item) for item in items]\n",
        "\n",
        "# Print formatted table\n",
        "print(tabulate(formatted_items, headers=headers, tablefmt='grid'))"
      ],
      "metadata": {
        "colab": {
          "base_uri": "https://localhost:8080/"
        },
        "id": "VL8HPGPB3hCI",
        "outputId": "5f309299-3516-43d7-865e-c431bbf750fa"
      },
      "execution_count": 22,
      "outputs": [
        {
          "output_type": "stream",
          "name": "stdout",
          "text": [
            "+----------+--------------+-------------+---------------------------+-------+------------+---------------+--------+------------+\n",
            "|   Row_id | First Name   | Last Name   | Email                     |   Age | City       | State         |    Zip |      Phone |\n",
            "+==========+==============+=============+===========================+=======+============+===============+========+============+\n",
            "|        1 | Radha        | Krishnan    | rk123@gmail.com           |    24 | Delhi      | Delhi         | 110032 | 7825649371 |\n",
            "+----------+--------------+-------------+---------------------------+-------+------------+---------------+--------+------------+\n",
            "|        2 | Amit         | Sharma      | amit.sharma89@gmail.com   |    30 | Mumbai     | Maharashtra   | 400001 | 9812345678 |\n",
            "+----------+--------------+-------------+---------------------------+-------+------------+---------------+--------+------------+\n",
            "|        3 | Priya        | Singh       | priya.singh77@yahoo.com   |    27 | Bangalore  | Karnataka     | 560001 | 9987654321 |\n",
            "+----------+--------------+-------------+---------------------------+-------+------------+---------------+--------+------------+\n",
            "|        4 | Rahul        | Verma       | rahul.verma91@hotmail.com |    32 | Chennai    | Tamil Nadu    | 600001 | 8876543210 |\n",
            "+----------+--------------+-------------+---------------------------+-------+------------+---------------+--------+------------+\n",
            "|        5 | Sneha        | Patel       | sneha.patel123@gmail.com  |    25 | Ahmedabad  | Gujarat       | 380001 | 9876543212 |\n",
            "+----------+--------------+-------------+---------------------------+-------+------------+---------------+--------+------------+\n",
            "|        6 | Karan        | Malhotra    | karan.malhotra@gmail.com  |    28 | Hyderabad  | Telangana     | 500001 | 9654321789 |\n",
            "+----------+--------------+-------------+---------------------------+-------+------------+---------------+--------+------------+\n",
            "|        7 | Neha         | Gupta       | neha.gupta87@gmail.com    |    29 | Kolkata    | West Bengal   | 700001 | 9123456789 |\n",
            "+----------+--------------+-------------+---------------------------+-------+------------+---------------+--------+------------+\n",
            "|        8 | Vikas        | Yadav       | vikas.yadav@gmail.com     |    31 | Pune       | Maharashtra   | 411001 | 9345678901 |\n",
            "+----------+--------------+-------------+---------------------------+-------+------------+---------------+--------+------------+\n",
            "|        9 | Anjali       | Mehra       | anjali.mehra@gmail.com    |    26 | Jaipur     | Rajasthan     | 302001 | 9765432187 |\n",
            "+----------+--------------+-------------+---------------------------+-------+------------+---------------+--------+------------+\n",
            "|       10 | Siddharth    | Chopra      | sid.chopra@gmail.com      |    33 | Lucknow    | Uttar Pradesh | 226001 | 9456783210 |\n",
            "+----------+--------------+-------------+---------------------------+-------+------------+---------------+--------+------------+\n",
            "|       11 | Rohan        | Kapoor      | rohan.kapoor@gmail.com    |    35 | Chandigarh | Chandigarh    | 160001 | 9876549876 |\n",
            "+----------+--------------+-------------+---------------------------+-------+------------+---------------+--------+------------+\n"
          ]
        }
      ]
    },
    {
      "cell_type": "markdown",
      "source": [
        "# **WHERE Clause in SQLite**\n",
        "\n",
        "## **Introduction**\n",
        "The `WHERE` clause in SQLite is used to filter records in a table based on specific conditions. It is a crucial part of SQL queries, allowing you to retrieve, update, or delete only the rows that meet the criteria specified in the `WHERE` condition.\n",
        "\n",
        "---\n",
        "\n",
        "## **Key Features**\n",
        "1. **Filter Rows:**\n",
        "   - The `WHERE` clause limits the rows affected by a query based on the specified condition.\n",
        "\n",
        "2. **Supported Operators:**\n",
        "   - SQLite supports various operators for comparisons:\n",
        "     - **Comparison Operators:** `=`, `!=`, `<`, `>`, `<=`, `>=`\n",
        "     - **Logical Operators:** `AND`, `OR`, `NOT`\n",
        "     - **Set Operators:** `IN`, `NOT IN`\n",
        "     - **Pattern Matching:** `LIKE`, `GLOB`\n",
        "     - **NULL Check:** `IS NULL`, `IS NOT NULL`\n",
        "     - **Range Check:** `BETWEEN ... AND ...`\n",
        "\n",
        "3. **Flexible Conditions:**\n",
        "   - The `WHERE` clause can include multiple conditions combined using logical operators.\n",
        "\n"
      ],
      "metadata": {
        "id": "u5Ox9rgs5olQ"
      }
    },
    {
      "cell_type": "code",
      "source": [
        "cur.execute(\"select * from customers where age>28 and email like '%gmail%'\")\n",
        "\n",
        "items = cur.fetchall()\n",
        "\n",
        "for item in items:\n",
        "  print(item)"
      ],
      "metadata": {
        "colab": {
          "base_uri": "https://localhost:8080/"
        },
        "id": "c4HY0f8C4hxB",
        "outputId": "7454d1f9-46c3-42ba-ce12-6e1d9f42f412"
      },
      "execution_count": 23,
      "outputs": [
        {
          "output_type": "stream",
          "name": "stdout",
          "text": [
            "('Amit', 'Sharma', 'amit.sharma89@gmail.com', 30, 'Mumbai', 'Maharashtra', 400001, 9812345678)\n",
            "('Neha', 'Gupta', 'neha.gupta87@gmail.com', 29, 'Kolkata', 'West Bengal', 700001, 9123456789)\n",
            "('Vikas', 'Yadav', 'vikas.yadav@gmail.com', 31, 'Pune', 'Maharashtra', 411001, 9345678901)\n",
            "('Siddharth', 'Chopra', 'sid.chopra@gmail.com', 33, 'Lucknow', 'Uttar Pradesh', 226001, 9456783210)\n",
            "('Rohan', 'Kapoor', 'rohan.kapoor@gmail.com', 35, 'Chandigarh', 'Chandigarh', 160001, 9876549876)\n"
          ]
        }
      ]
    },
    {
      "cell_type": "markdown",
      "source": [
        "# **Update Statement**"
      ],
      "metadata": {
        "id": "G5tXouqM7gYg"
      }
    },
    {
      "cell_type": "code",
      "source": [
        "cur.execute(\"\"\"\n",
        "UPDATE Customers SET age = 26 WHERE rowid = 1\n",
        "\"\"\")\n",
        "\n",
        "cur.execute(\"select * from customers where rowid=1\")\n",
        "cur.fetchall()\n"
      ],
      "metadata": {
        "colab": {
          "base_uri": "https://localhost:8080/"
        },
        "id": "amT5WiSm6MBh",
        "outputId": "38ebfd2e-a441-45d6-ae1f-75ccb26759dc"
      },
      "execution_count": 26,
      "outputs": [
        {
          "output_type": "execute_result",
          "data": {
            "text/plain": [
              "[('Radha',\n",
              "  'Krishnan',\n",
              "  'rk123@gmail.com',\n",
              "  26,\n",
              "  'Delhi',\n",
              "  'Delhi',\n",
              "  110032,\n",
              "  7825649371)]"
            ]
          },
          "metadata": {},
          "execution_count": 26
        }
      ]
    },
    {
      "cell_type": "markdown",
      "source": [
        "# **Delete Records**"
      ],
      "metadata": {
        "id": "8EYP7kcr8R1k"
      }
    },
    {
      "cell_type": "code",
      "source": [
        "cur.execute(\"Delete from customers where rowid=2\")\n",
        "\n",
        "cur.execute(\"select * from customers where rowid=2\")\n",
        "cur.fetchall() #empty list is returned"
      ],
      "metadata": {
        "colab": {
          "base_uri": "https://localhost:8080/"
        },
        "id": "KPBjMzAx8aYl",
        "outputId": "279386cf-fe37-4963-f269-5e8557a5760a"
      },
      "execution_count": 29,
      "outputs": [
        {
          "output_type": "execute_result",
          "data": {
            "text/plain": [
              "[]"
            ]
          },
          "metadata": {},
          "execution_count": 29
        }
      ]
    },
    {
      "cell_type": "markdown",
      "source": [
        "# **Order By**"
      ],
      "metadata": {
        "id": "3ofuXL_T8xLj"
      }
    },
    {
      "cell_type": "code",
      "source": [
        "cur.execute(\"Select * from customers order by age desc\")\n",
        "\n",
        "items = cur.fetchall()\n",
        "\n",
        "for item in items:\n",
        "  print(item)"
      ],
      "metadata": {
        "colab": {
          "base_uri": "https://localhost:8080/"
        },
        "id": "fbIWtUyO8tt6",
        "outputId": "1523b935-4a2b-4446-dfe3-1f0fab34091d"
      },
      "execution_count": 30,
      "outputs": [
        {
          "output_type": "stream",
          "name": "stdout",
          "text": [
            "('Rohan', 'Kapoor', 'rohan.kapoor@gmail.com', 35, 'Chandigarh', 'Chandigarh', 160001, 9876549876)\n",
            "('Siddharth', 'Chopra', 'sid.chopra@gmail.com', 33, 'Lucknow', 'Uttar Pradesh', 226001, 9456783210)\n",
            "('Rahul', 'Verma', 'rahul.verma91@hotmail.com', 32, 'Chennai', 'Tamil Nadu', 600001, 8876543210)\n",
            "('Vikas', 'Yadav', 'vikas.yadav@gmail.com', 31, 'Pune', 'Maharashtra', 411001, 9345678901)\n",
            "('Neha', 'Gupta', 'neha.gupta87@gmail.com', 29, 'Kolkata', 'West Bengal', 700001, 9123456789)\n",
            "('Karan', 'Malhotra', 'karan.malhotra@gmail.com', 28, 'Hyderabad', 'Telangana', 500001, 9654321789)\n",
            "('Priya', 'Singh', 'priya.singh77@yahoo.com', 27, 'Bangalore', 'Karnataka', 560001, 9987654321)\n",
            "('Radha', 'Krishnan', 'rk123@gmail.com', 26, 'Delhi', 'Delhi', 110032, 7825649371)\n",
            "('Anjali', 'Mehra', 'anjali.mehra@gmail.com', 26, 'Jaipur', 'Rajasthan', 302001, 9765432187)\n",
            "('Sneha', 'Patel', 'sneha.patel123@gmail.com', 25, 'Ahmedabad', 'Gujarat', 380001, 9876543212)\n"
          ]
        }
      ]
    },
    {
      "cell_type": "markdown",
      "source": [
        "# **And/OR**"
      ],
      "metadata": {
        "id": "4dBV2Uil9Mhs"
      }
    },
    {
      "cell_type": "code",
      "source": [
        "cur.execute(\"select * from customers where age=26 and city='Delhi'\")\n",
        "cur.fetchall()"
      ],
      "metadata": {
        "colab": {
          "base_uri": "https://localhost:8080/"
        },
        "id": "QYQN1f_69Pbg",
        "outputId": "4f055cc3-7b69-450b-9572-70889db2c3b8"
      },
      "execution_count": 32,
      "outputs": [
        {
          "output_type": "execute_result",
          "data": {
            "text/plain": [
              "[('Radha',\n",
              "  'Krishnan',\n",
              "  'rk123@gmail.com',\n",
              "  26,\n",
              "  'Delhi',\n",
              "  'Delhi',\n",
              "  110032,\n",
              "  7825649371)]"
            ]
          },
          "metadata": {},
          "execution_count": 32
        }
      ]
    },
    {
      "cell_type": "code",
      "source": [
        "cur.execute(\"select * from customers where age=26 or city='Delhi'\")\n",
        "cur.fetchall()"
      ],
      "metadata": {
        "colab": {
          "base_uri": "https://localhost:8080/"
        },
        "id": "6FzO4AYI917_",
        "outputId": "7a2c3f45-1cd0-43ad-8514-bd0a481e4a71"
      },
      "execution_count": 33,
      "outputs": [
        {
          "output_type": "execute_result",
          "data": {
            "text/plain": [
              "[('Radha',\n",
              "  'Krishnan',\n",
              "  'rk123@gmail.com',\n",
              "  26,\n",
              "  'Delhi',\n",
              "  'Delhi',\n",
              "  110032,\n",
              "  7825649371),\n",
              " ('Anjali',\n",
              "  'Mehra',\n",
              "  'anjali.mehra@gmail.com',\n",
              "  26,\n",
              "  'Jaipur',\n",
              "  'Rajasthan',\n",
              "  302001,\n",
              "  9765432187)]"
            ]
          },
          "metadata": {},
          "execution_count": 33
        }
      ]
    },
    {
      "cell_type": "markdown",
      "source": [
        "# **Limit**"
      ],
      "metadata": {
        "id": "m-twQr9F-TUe"
      }
    },
    {
      "cell_type": "code",
      "source": [
        "cur.execute(\"select * from customers limit 5\")\n",
        "items = cur.fetchall()\n",
        "for item in items:\n",
        "  print(item)"
      ],
      "metadata": {
        "colab": {
          "base_uri": "https://localhost:8080/"
        },
        "id": "PmXZ0c9t-SDS",
        "outputId": "6524b2a1-ae28-42f9-f50a-669e0fcd737d"
      },
      "execution_count": 35,
      "outputs": [
        {
          "output_type": "stream",
          "name": "stdout",
          "text": [
            "('Radha', 'Krishnan', 'rk123@gmail.com', 26, 'Delhi', 'Delhi', 110032, 7825649371)\n",
            "('Priya', 'Singh', 'priya.singh77@yahoo.com', 27, 'Bangalore', 'Karnataka', 560001, 9987654321)\n",
            "('Rahul', 'Verma', 'rahul.verma91@hotmail.com', 32, 'Chennai', 'Tamil Nadu', 600001, 8876543210)\n",
            "('Sneha', 'Patel', 'sneha.patel123@gmail.com', 25, 'Ahmedabad', 'Gujarat', 380001, 9876543212)\n",
            "('Karan', 'Malhotra', 'karan.malhotra@gmail.com', 28, 'Hyderabad', 'Telangana', 500001, 9654321789)\n"
          ]
        }
      ]
    },
    {
      "cell_type": "code",
      "source": [
        "conn.close() #close our connection"
      ],
      "metadata": {
        "id": "NVYIJLCT-fIc"
      },
      "execution_count": 36,
      "outputs": []
    },
    {
      "cell_type": "code",
      "source": [],
      "metadata": {
        "id": "fG_35XUHp6Ec"
      },
      "execution_count": null,
      "outputs": []
    }
  ]
}